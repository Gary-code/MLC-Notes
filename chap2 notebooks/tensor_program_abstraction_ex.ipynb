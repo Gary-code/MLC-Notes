{
  "nbformat": 4,
  "nbformat_minor": 0,
  "metadata": {
    "colab": {
      "name": "tensor-program-abstraction-ex.ipynb",
      "provenance": []
    },
    "kernelspec": {
      "name": "python3",
      "display_name": "Python 3"
    },
    "language_info": {
      "name": "python"
    },
    "accelerator": "GPU",
    "gpuClass": "standard"
  },
  "cells": [
    {
      "cell_type": "markdown",
      "source": [
        "# Tensor Program in Action"
      ],
      "metadata": {
        "id": "SV144MPE8fhZ"
      }
    },
    {
      "cell_type": "markdown",
      "source": [
        "## Install packages"
      ],
      "metadata": {
        "id": "FGWXJ67382XZ"
      }
    },
    {
      "cell_type": "code",
      "source": [
        "!python3 -m  pip install mlc-ai-nightly -f https://mlc.ai/wheels"
      ],
      "metadata": {
        "colab": {
          "base_uri": "https://localhost:8080/"
        },
        "id": "eI3ii99c85bI",
        "outputId": "faacf0c3-cb27-4422-d73b-33cc2adb9a77"
      },
      "execution_count": 1,
      "outputs": [
        {
          "output_type": "stream",
          "name": "stdout",
          "text": [
            "Looking in indexes: https://pypi.org/simple, https://us-python.pkg.dev/colab-wheels/public/simple/\n",
            "Looking in links: https://mlc.ai/wheels\n",
            "Collecting mlc-ai-nightly\n",
            "  Downloading https://github.com/mlc-ai/utils/releases/download/v0.9.dev0/mlc_ai_nightly-0.9.dev1664%2Bg1f3985de0-cp37-cp37m-manylinux_2_17_x86_64.manylinux2014_x86_64.whl (43.3 MB)\n",
            "\u001b[K     |████████████████████████████████| 43.3 MB 1.6 MB/s \n",
            "\u001b[?25hRequirement already satisfied: tornado in /usr/local/lib/python3.7/dist-packages (from mlc-ai-nightly) (5.1.1)\n",
            "Requirement already satisfied: scipy in /usr/local/lib/python3.7/dist-packages (from mlc-ai-nightly) (1.4.1)\n",
            "Requirement already satisfied: decorator in /usr/local/lib/python3.7/dist-packages (from mlc-ai-nightly) (4.4.2)\n",
            "Requirement already satisfied: numpy in /usr/local/lib/python3.7/dist-packages (from mlc-ai-nightly) (1.21.6)\n",
            "Requirement already satisfied: cloudpickle in /usr/local/lib/python3.7/dist-packages (from mlc-ai-nightly) (1.3.0)\n",
            "Requirement already satisfied: attrs in /usr/local/lib/python3.7/dist-packages (from mlc-ai-nightly) (21.4.0)\n",
            "Collecting synr==0.6.0\n",
            "  Downloading synr-0.6.0-py3-none-any.whl (18 kB)\n",
            "Requirement already satisfied: psutil in /usr/local/lib/python3.7/dist-packages (from mlc-ai-nightly) (5.4.8)\n",
            "Installing collected packages: synr, mlc-ai-nightly\n",
            "Successfully installed mlc-ai-nightly-0.9.dev1664+g1f3985de0 synr-0.6.0\n"
          ]
        }
      ]
    },
    {
      "cell_type": "markdown",
      "source": [
        "## 创建张量程序\n",
        "> performs addition among two vectors"
      ],
      "metadata": {
        "id": "TzNDoH5A9eT1"
      }
    },
    {
      "cell_type": "code",
      "source": [
        "import tvm\n",
        "from tvm.ir.module import IRModule\n",
        "from tvm.script import tir as T\n",
        "import numpy as np"
      ],
      "metadata": {
        "id": "l_MePoUS9m-S"
      },
      "execution_count": 2,
      "outputs": []
    },
    {
      "cell_type": "code",
      "source": [
        "@tvm.script.ir_module\n",
        "class MyModule:\n",
        "    @T.prim_func\n",
        "    def main(A: T.Buffer[128, \"float32\"],\n",
        "                B: T.Buffer[128, \"float32\"],\n",
        "                C: T.Buffer[128, \"float32\"]):\n",
        "      # extra annotation\n",
        "      T.func_attr({\"global_symbol\": \"main\", \"tir.noalias\": True})\n",
        "      for i in range(128):\n",
        "        with T.block(\"C\"):\n",
        "          # 在空间域上声明一个数据并行迭代器\n",
        "          vi = T.axis.spatial(128, i)\n",
        "          C[vi] = A[vi] + B[vi]"
      ],
      "metadata": {
        "id": "TZ3qvhyO91CZ"
      },
      "execution_count": 3,
      "outputs": []
    },
    {
      "cell_type": "code",
      "source": [
        "type(MyModule)  # 包含了张量算子程序的集合"
      ],
      "metadata": {
        "colab": {
          "base_uri": "https://localhost:8080/"
        },
        "id": "Ex9sbaxU_Ueg",
        "outputId": "77a95b02-8077-405b-ceb4-3f5350f1d3f6"
      },
      "execution_count": 4,
      "outputs": [
        {
          "output_type": "execute_result",
          "data": {
            "text/plain": [
              "tvm.ir.module.IRModule"
            ]
          },
          "metadata": {},
          "execution_count": 4
        }
      ]
    },
    {
      "cell_type": "code",
      "source": [
        "print(MyModule.script())  # 打印看看有什么元素"
      ],
      "metadata": {
        "colab": {
          "base_uri": "https://localhost:8080/"
        },
        "id": "AUlhlX1R_paA",
        "outputId": "2fd87642-a147-4272-8110-132184c2b03d"
      },
      "execution_count": 6,
      "outputs": [
        {
          "output_type": "stream",
          "name": "stdout",
          "text": [
            "@tvm.script.ir_module\n",
            "class Module:\n",
            "    @tir.prim_func\n",
            "    def main(A: tir.Buffer[128, \"float32\"], B: tir.Buffer[128, \"float32\"], C: tir.Buffer[128, \"float32\"]) -> None:\n",
            "        # function attr dict\n",
            "        tir.func_attr({\"global_symbol\": \"main\", \"tir.noalias\": True})\n",
            "        # body\n",
            "        # with tir.block(\"root\")\n",
            "        for i in tir.serial(128):\n",
            "            with tir.block(\"C\"):\n",
            "                vi = tir.axis.spatial(128, i)\n",
            "                tir.reads(A[vi], B[vi])\n",
            "                tir.writes(C[vi])\n",
            "                C[vi] = A[vi] + B[vi]\n",
            "    \n"
          ]
        }
      ]
    },
    {
      "cell_type": "code",
      "source": [
        "sch = tvm.tir.Schedule(MyModule)"
      ],
      "metadata": {
        "id": "wQgybXTrAFY5"
      },
      "execution_count": 7,
      "outputs": []
    },
    {
      "cell_type": "code",
      "source": [
        "block_c = sch.get_block(\"C\")"
      ],
      "metadata": {
        "id": "8gw9S4RVAfc7"
      },
      "execution_count": 8,
      "outputs": []
    },
    {
      "cell_type": "code",
      "source": [
        "i, = sch.get_loops(block_c)"
      ],
      "metadata": {
        "id": "SBho_drCAyQv"
      },
      "execution_count": 9,
      "outputs": []
    },
    {
      "cell_type": "code",
      "source": [
        "i0, i1, i2 = sch.split(i, factors=[None, 4, 4])"
      ],
      "metadata": {
        "id": "4OSpLO_HA3jO"
      },
      "execution_count": 10,
      "outputs": []
    },
    {
      "cell_type": "code",
      "source": [
        "print(sch.mod.script())  # 变换为三个迭代的组合 "
      ],
      "metadata": {
        "colab": {
          "base_uri": "https://localhost:8080/"
        },
        "id": "VndsxDQ9A-XU",
        "outputId": "1068e0b4-7245-405e-b0b5-d35b55d50390"
      },
      "execution_count": 11,
      "outputs": [
        {
          "output_type": "stream",
          "name": "stdout",
          "text": [
            "@tvm.script.ir_module\n",
            "class Module:\n",
            "    @tir.prim_func\n",
            "    def main(A: tir.Buffer[128, \"float32\"], B: tir.Buffer[128, \"float32\"], C: tir.Buffer[128, \"float32\"]) -> None:\n",
            "        # function attr dict\n",
            "        tir.func_attr({\"global_symbol\": \"main\", \"tir.noalias\": True})\n",
            "        # body\n",
            "        # with tir.block(\"root\")\n",
            "        for i_0, i_1, i_2 in tir.grid(8, 4, 4):\n",
            "            with tir.block(\"C\"):\n",
            "                vi = tir.axis.spatial(128, i_0 * 16 + i_1 * 4 + i_2)\n",
            "                tir.reads(A[vi], B[vi])\n",
            "                tir.writes(C[vi])\n",
            "                C[vi] = A[vi] + B[vi]\n",
            "    \n"
          ]
        }
      ]
    },
    {
      "cell_type": "code",
      "source": [
        "sch.reorder(i2, i1)  # 交换两个循环顺序\n",
        "sch.parallel(i0)  # 并行最外面的循环\n",
        "print(sch.mod.script())"
      ],
      "metadata": {
        "colab": {
          "base_uri": "https://localhost:8080/"
        },
        "id": "RuVW00YWBYr9",
        "outputId": "64258b8e-f224-4bc2-dbd6-1e13dccee4e1"
      },
      "execution_count": 16,
      "outputs": [
        {
          "output_type": "stream",
          "name": "stdout",
          "text": [
            "@tvm.script.ir_module\n",
            "class Module:\n",
            "    @tir.prim_func\n",
            "    def main(A: tir.Buffer[128, \"float32\"], B: tir.Buffer[128, \"float32\"], C: tir.Buffer[128, \"float32\"]) -> None:\n",
            "        # function attr dict\n",
            "        tir.func_attr({\"global_symbol\": \"main\", \"tir.noalias\": True})\n",
            "        # body\n",
            "        # with tir.block(\"root\")\n",
            "        for i_0 in tir.parallel(8):\n",
            "            for i_2, i_1 in tir.grid(4, 4):\n",
            "                with tir.block(\"C\"):\n",
            "                    vi = tir.axis.spatial(128, i_0 * 16 + i_1 * 4 + i_2)\n",
            "                    tir.reads(A[vi], B[vi])\n",
            "                    tir.writes(C[vi])\n",
            "                    C[vi] = A[vi] + B[vi]\n",
            "    \n"
          ]
        }
      ]
    },
    {
      "cell_type": "markdown",
      "source": [
        "## 标定为可执行库"
      ],
      "metadata": {
        "id": "9LAGGdyuCM61"
      }
    },
    {
      "cell_type": "code",
      "source": [
        "rt_mod = tvm.build(sch.mod, target=\"llvm\") # 默认直接在cpu上执行\n",
        "func = rt_mod[\"main\"]\n",
        "type(func)"
      ],
      "metadata": {
        "colab": {
          "base_uri": "https://localhost:8080/"
        },
        "id": "0vLCrAVWCRUK",
        "outputId": "173d495d-8f05-4c4d-d76a-58c2a26bcf51"
      },
      "execution_count": 18,
      "outputs": [
        {
          "output_type": "execute_result",
          "data": {
            "text/plain": [
              "tvm.runtime.packed_func.PackedFunc"
            ]
          },
          "metadata": {},
          "execution_count": 18
        }
      ]
    },
    {
      "cell_type": "code",
      "source": [
        "a = tvm.nd.array(np.arange(128, dtype=\"float32\"))\n",
        "b = tvm.nd.array(np.ones(128, dtype=\"float32\"))\n",
        "c = tvm.nd.empty([128], dtype=\"float32\")"
      ],
      "metadata": {
        "id": "nkzVhX94CoUg"
      },
      "execution_count": 21,
      "outputs": []
    },
    {
      "cell_type": "code",
      "source": [
        "a, b, c"
      ],
      "metadata": {
        "colab": {
          "base_uri": "https://localhost:8080/"
        },
        "id": "TGUTVmxiC_rP",
        "outputId": "52c217e4-9cce-48ee-f2a3-ed53108304dc"
      },
      "execution_count": 22,
      "outputs": [
        {
          "output_type": "execute_result",
          "data": {
            "text/plain": [
              "(<tvm.nd.NDArray shape=(128,), cpu(0)>\n",
              " array([  0.,   1.,   2.,   3.,   4.,   5.,   6.,   7.,   8.,   9.,  10.,\n",
              "         11.,  12.,  13.,  14.,  15.,  16.,  17.,  18.,  19.,  20.,  21.,\n",
              "         22.,  23.,  24.,  25.,  26.,  27.,  28.,  29.,  30.,  31.,  32.,\n",
              "         33.,  34.,  35.,  36.,  37.,  38.,  39.,  40.,  41.,  42.,  43.,\n",
              "         44.,  45.,  46.,  47.,  48.,  49.,  50.,  51.,  52.,  53.,  54.,\n",
              "         55.,  56.,  57.,  58.,  59.,  60.,  61.,  62.,  63.,  64.,  65.,\n",
              "         66.,  67.,  68.,  69.,  70.,  71.,  72.,  73.,  74.,  75.,  76.,\n",
              "         77.,  78.,  79.,  80.,  81.,  82.,  83.,  84.,  85.,  86.,  87.,\n",
              "         88.,  89.,  90.,  91.,  92.,  93.,  94.,  95.,  96.,  97.,  98.,\n",
              "         99., 100., 101., 102., 103., 104., 105., 106., 107., 108., 109.,\n",
              "        110., 111., 112., 113., 114., 115., 116., 117., 118., 119., 120.,\n",
              "        121., 122., 123., 124., 125., 126., 127.], dtype=float32),\n",
              " <tvm.nd.NDArray shape=(128,), cpu(0)>\n",
              " array([1., 1., 1., 1., 1., 1., 1., 1., 1., 1., 1., 1., 1., 1., 1., 1., 1.,\n",
              "        1., 1., 1., 1., 1., 1., 1., 1., 1., 1., 1., 1., 1., 1., 1., 1., 1.,\n",
              "        1., 1., 1., 1., 1., 1., 1., 1., 1., 1., 1., 1., 1., 1., 1., 1., 1.,\n",
              "        1., 1., 1., 1., 1., 1., 1., 1., 1., 1., 1., 1., 1., 1., 1., 1., 1.,\n",
              "        1., 1., 1., 1., 1., 1., 1., 1., 1., 1., 1., 1., 1., 1., 1., 1., 1.,\n",
              "        1., 1., 1., 1., 1., 1., 1., 1., 1., 1., 1., 1., 1., 1., 1., 1., 1.,\n",
              "        1., 1., 1., 1., 1., 1., 1., 1., 1., 1., 1., 1., 1., 1., 1., 1., 1.,\n",
              "        1., 1., 1., 1., 1., 1., 1., 1., 1.], dtype=float32),\n",
              " <tvm.nd.NDArray shape=(128,), cpu(0)>\n",
              " array([2.3593457e-36, 0.0000000e+00, 4.2038954e-45, 1.0842022e-19,\n",
              "        2.9477587e-36, 0.0000000e+00, 4.2038954e-45, 1.0842022e-19,\n",
              "        2.9477817e-36, 0.0000000e+00, 4.2038954e-45, 1.0842022e-19,\n",
              "        2.9479998e-36, 0.0000000e+00, 4.2038954e-45, 1.0842022e-19,\n",
              "        2.9481605e-36, 0.0000000e+00, 4.2038954e-45, 3.6893488e+19,\n",
              "        2.9482179e-36, 0.0000000e+00, 4.2038954e-45, 1.0842022e-19,\n",
              "        2.9483327e-36, 0.0000000e+00, 4.2038954e-45, 1.0842022e-19,\n",
              "        2.9483556e-36, 0.0000000e+00, 4.2038954e-45, 1.0842022e-19,\n",
              "        2.9484245e-36, 0.0000000e+00, 4.2038954e-45, 1.0842022e-19,\n",
              "        2.9484360e-36, 0.0000000e+00, 4.2038954e-45, 1.0842022e-19,\n",
              "        2.9484475e-36, 0.0000000e+00, 4.2038954e-45, 1.0842022e-19,\n",
              "        2.9486197e-36, 0.0000000e+00, 4.2038954e-45, 1.0842022e-19,\n",
              "        4.6946306e-36, 0.0000000e+00, 4.2038954e-45, 1.0842022e-19,\n",
              "        5.5484252e-36, 0.0000000e+00, 4.2038954e-45, 1.0842022e-19,\n",
              "        5.5491369e-36, 0.0000000e+00, 4.2038954e-45, 1.0842022e-19,\n",
              "        5.5492746e-36, 0.0000000e+00, 4.2038954e-45, 1.0842022e-19,\n",
              "        5.5494124e-36, 0.0000000e+00, 4.2038954e-45, 1.0842022e-19,\n",
              "        5.5496190e-36, 0.0000000e+00, 4.2038954e-45, 1.0842022e-19,\n",
              "        5.5503767e-36, 0.0000000e+00, 4.2038954e-45, 1.0842022e-19,\n",
              "        5.5503996e-36, 0.0000000e+00, 4.2038954e-45, 1.0842022e-19,\n",
              "        5.5507440e-36, 0.0000000e+00, 4.2038954e-45, 1.0842022e-19,\n",
              "        5.5512491e-36, 0.0000000e+00, 4.2038954e-45, 1.0842022e-19,\n",
              "                  nan,           nan,           nan,           nan,\n",
              "                  nan,           nan,           nan,           nan,\n",
              "                  nan,           nan, 4.6457540e-36, 0.0000000e+00,\n",
              "                  nan,           nan,           nan,           nan,\n",
              "                  nan,           nan,           nan,           nan,\n",
              "                  nan,           nan,           nan,           nan,\n",
              "                  nan,           nan,           nan,           nan,\n",
              "                  nan,           nan,           nan,           nan,\n",
              "                  nan,           nan,           nan,           nan,\n",
              "                  nan,           nan,           nan,           nan],\n",
              "       dtype=float32))"
            ]
          },
          "metadata": {},
          "execution_count": 22
        }
      ]
    },
    {
      "cell_type": "code",
      "source": [
        "func(a, b, c)"
      ],
      "metadata": {
        "id": "dHMBuYfrDDCh"
      },
      "execution_count": 23,
      "outputs": []
    },
    {
      "cell_type": "code",
      "source": [
        "a, b, c"
      ],
      "metadata": {
        "colab": {
          "base_uri": "https://localhost:8080/"
        },
        "id": "eRXScj1UDH4S",
        "outputId": "a04ecd7a-a307-4cb5-8ef1-4f9131208264"
      },
      "execution_count": 25,
      "outputs": [
        {
          "output_type": "execute_result",
          "data": {
            "text/plain": [
              "(<tvm.nd.NDArray shape=(128,), cpu(0)>\n",
              " array([  0.,   1.,   2.,   3.,   4.,   5.,   6.,   7.,   8.,   9.,  10.,\n",
              "         11.,  12.,  13.,  14.,  15.,  16.,  17.,  18.,  19.,  20.,  21.,\n",
              "         22.,  23.,  24.,  25.,  26.,  27.,  28.,  29.,  30.,  31.,  32.,\n",
              "         33.,  34.,  35.,  36.,  37.,  38.,  39.,  40.,  41.,  42.,  43.,\n",
              "         44.,  45.,  46.,  47.,  48.,  49.,  50.,  51.,  52.,  53.,  54.,\n",
              "         55.,  56.,  57.,  58.,  59.,  60.,  61.,  62.,  63.,  64.,  65.,\n",
              "         66.,  67.,  68.,  69.,  70.,  71.,  72.,  73.,  74.,  75.,  76.,\n",
              "         77.,  78.,  79.,  80.,  81.,  82.,  83.,  84.,  85.,  86.,  87.,\n",
              "         88.,  89.,  90.,  91.,  92.,  93.,  94.,  95.,  96.,  97.,  98.,\n",
              "         99., 100., 101., 102., 103., 104., 105., 106., 107., 108., 109.,\n",
              "        110., 111., 112., 113., 114., 115., 116., 117., 118., 119., 120.,\n",
              "        121., 122., 123., 124., 125., 126., 127.], dtype=float32),\n",
              " <tvm.nd.NDArray shape=(128,), cpu(0)>\n",
              " array([1., 1., 1., 1., 1., 1., 1., 1., 1., 1., 1., 1., 1., 1., 1., 1., 1.,\n",
              "        1., 1., 1., 1., 1., 1., 1., 1., 1., 1., 1., 1., 1., 1., 1., 1., 1.,\n",
              "        1., 1., 1., 1., 1., 1., 1., 1., 1., 1., 1., 1., 1., 1., 1., 1., 1.,\n",
              "        1., 1., 1., 1., 1., 1., 1., 1., 1., 1., 1., 1., 1., 1., 1., 1., 1.,\n",
              "        1., 1., 1., 1., 1., 1., 1., 1., 1., 1., 1., 1., 1., 1., 1., 1., 1.,\n",
              "        1., 1., 1., 1., 1., 1., 1., 1., 1., 1., 1., 1., 1., 1., 1., 1., 1.,\n",
              "        1., 1., 1., 1., 1., 1., 1., 1., 1., 1., 1., 1., 1., 1., 1., 1., 1.,\n",
              "        1., 1., 1., 1., 1., 1., 1., 1., 1.], dtype=float32),\n",
              " <tvm.nd.NDArray shape=(128,), cpu(0)>\n",
              " array([  1.,   2.,   3.,   4.,   5.,   6.,   7.,   8.,   9.,  10.,  11.,\n",
              "         12.,  13.,  14.,  15.,  16.,  17.,  18.,  19.,  20.,  21.,  22.,\n",
              "         23.,  24.,  25.,  26.,  27.,  28.,  29.,  30.,  31.,  32.,  33.,\n",
              "         34.,  35.,  36.,  37.,  38.,  39.,  40.,  41.,  42.,  43.,  44.,\n",
              "         45.,  46.,  47.,  48.,  49.,  50.,  51.,  52.,  53.,  54.,  55.,\n",
              "         56.,  57.,  58.,  59.,  60.,  61.,  62.,  63.,  64.,  65.,  66.,\n",
              "         67.,  68.,  69.,  70.,  71.,  72.,  73.,  74.,  75.,  76.,  77.,\n",
              "         78.,  79.,  80.,  81.,  82.,  83.,  84.,  85.,  86.,  87.,  88.,\n",
              "         89.,  90.,  91.,  92.,  93.,  94.,  95.,  96.,  97.,  98.,  99.,\n",
              "        100., 101., 102., 103., 104., 105., 106., 107., 108., 109., 110.,\n",
              "        111., 112., 113., 114., 115., 116., 117., 118., 119., 120., 121.,\n",
              "        122., 123., 124., 125., 126., 127., 128.], dtype=float32))"
            ]
          },
          "metadata": {},
          "execution_count": 25
        }
      ]
    }
  ]
}